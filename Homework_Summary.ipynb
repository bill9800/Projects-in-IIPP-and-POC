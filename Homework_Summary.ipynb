{
 "cells": [
  {
   "cell_type": "markdown",
   "metadata": {},
   "source": [
    "## An Introduction to Interactive Programming in Python (Part 1)\n",
    "Mini-project #1 - Rock-paper-scissor-lizard-Spock\n",
    ">http://www.codeskulptor.org/#user42_fzphVJAIlT_5.py\n",
    "\n",
    "Mini-project #2 - \"Guess the Number!\"\n",
    ">http://www.codeskulptor.org/#user42_FJ3nirR7rU_8.py\n",
    "\n",
    "Mini-project #3 - Stopwatch: The Game\n",
    ">http://www.codeskulptor.org/#user42_DDdDiSCTzN_5.py\n",
    "\n",
    "Mini-project #4 - Pong\n",
    ">http://www.codeskulptor.org/#user42_XNVKX9nAdp_9.py\n",
    "\n",
    "## An Introduction to Interactive Programming in Python (Part 2)\n",
    "Mini-project #5 - Memory\n",
    ">http://www.codeskulptor.org/#user42_zOB3gi6hqT_24.py\n",
    "\n",
    "Mini-project #6 - Blackjack\n",
    ">http://www.codeskulptor.org/#user42_mpMWOBUzBDdyN10_44.py\n",
    "\n",
    "Mini Project #7 - Spaceship (prepare for RiceRocks)\n",
    ">http://www.codeskulptor.org/#user42_6WHTTxqRhH_67.py\n",
    "\n",
    "Mini Project #8 - RiceRocks (Asteroids)\n",
    ">http://www.codeskulptor.org/#user42_Na9pUFexxV_84.py\n",
    "\n",
    "## Principles of Computing (Part 1)\n",
    "Mini-Project #1 - 2048 (Merge)\n",
    ">http://www.codeskulptor.org/#user42_nQWrRtShMF_14.py\n",
    "\n",
    "Mini-project #2 - 2048 (Full)\n",
    ">http://www.codeskulptor.org/#user42_cXxzvJevsx_33.py\n",
    "\n",
    "Mini-project #3 - Tic-Tac-Toe (Monte Carlo)\n",
    ">http://www.codeskulptor.org/#user42_ieT33BfDZf_4.py\n",
    "\n",
    "Mini-project #4 - Yahtzee (NO GUI)\n",
    ">http://www.codeskulptor.org/#user42_KLj4XC1BPm_0.py\n"
   ]
  },
  {
   "cell_type": "markdown",
   "metadata": {},
   "source": []
  }
 ],
 "metadata": {
  "kernelspec": {
   "display_name": "Python 3",
   "language": "python",
   "name": "python3"
  },
  "language_info": {
   "codemirror_mode": {
    "name": "ipython",
    "version": 3
   },
   "file_extension": ".py",
   "mimetype": "text/x-python",
   "name": "python",
   "nbconvert_exporter": "python",
   "pygments_lexer": "ipython3",
   "version": "3.5.2"
  }
 },
 "nbformat": 4,
 "nbformat_minor": 1
}
